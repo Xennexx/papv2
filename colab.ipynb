{
 "cells": [
  {
   "cell_type": "code",
   "execution_count": null,
   "metadata": {},
   "outputs": [],
   "source": [
    "# @title ## 1.1. Global Settings\n",
    "import os\n",
    "\n",
    "#@markdown Path to store model files\n",
    "data_dir = \"/content/data\" # @param {type:\"string\"}\n",
    "%env DATA_DIR=$data_dir\n",
    "working_dir = \"/content\"\n",
    "%env WORKING_DIR=$working_dir\n",
    "root_repo_dir = \"/content\" # @param {type:\"string\"}\n",
    "%env ROOT_REPO_DIR=$root_repo_dir\n",
    "log_dir = \"/content/logs\" # @param {type:\"string\"}\n",
    "%env LOG_DIR=$log_dir\n",
    "image_output_dir = \"/content/images\" # @param {type:\"string\"}\n",
    "%env IMAGE_OUTPUT_DIR=$image_output_dir\n",
    "\n",
    "enable_cloudflared = False # @param {type:\"boolean\"}\n",
    "if enable_cloudflared:\n",
    "    cloudflare_token = \"quick\" # @param {type:\"string\"}\n",
    "    %env CF_TOKEN=$cloudflare_token\n",
    "\n",
    "for dir in [data_dir, working_dir, root_repo_dir, log_dir, image_output_dir]:\n",
    "    if not os.path.exists(dir):\n",
    "        os.makedirs(dir)\n",
    "\n",
    "if not os.path.exists(os.path.join(root_repo_dir, \"Ultimate-Paperspace-Template\")):\n",
    "    !cd $root_repo_dir\n",
    "    !git clone -q https://github.com/sheldonchiu/Ultimate-Paperspace-Template.git"
   ]
  },
  {
   "cell_type": "code",
   "execution_count": null,
   "metadata": {},
   "outputs": [],
   "source": [
    "# @title ## Stable Diffusion Model Download\n",
    "\n",
    "hf_token = \"\" # @param {type:\"string\"}\n",
    "%env HF_TOKEN=$hf_token\n",
    "model_list = \"\" # @param {type:\"string\"}\n",
    "%env MODEL_LIST=$model_list\n",
    "lora_list = \"\" # @param {type:\"string\"}\n",
    "%env LORA_LIST=$lora_list\n",
    "embedding_list = \"\" # @param {type:\"string\"}\n",
    "%env EMBEDDING_LIST=$embedding_list\n",
    "vae_list = \"\" # @param {type:\"string\"}\n",
    "%env VAE_LIST=$vae_list\n",
    "controlnet_list = \"\" # @param {type:\"string\"}\n",
    "%env CONTROLNET_LIST=$controlnet_list\n",
    "upscaler_list = \"\" # @param {type:\"string\"}\n",
    "%env UPSCALER_LIST=$upscaler_list\n",
    "\n",
    "!bash $root_repo_dir/Ultimate-Paperspace-Template/utils/sd_model_download/main.sh"
   ]
  },
  {
   "cell_type": "code",
   "execution_count": null,
   "metadata": {},
   "outputs": [],
   "source": [
    "# @title ## Stable Diffusion Web UI\n",
    "\n",
    "enable_sd_webui = False # @param {type:\"boolean\"}\n",
    "if enable_sd_webui:\n",
    "    os.environ[\"RUN_SCRIPT\"] = \"sd_webui\"\n",
    "sd_webui_port = 7008 # @param {type:\"integer\"}\n",
    "%env SD_WEBUI_PORT=$sd_webui_port\n",
    "\n",
    "!bash $root_repo_dir/Ultimate-Paperspace-Template/entry.sh"
   ]
  },
  {
   "cell_type": "code",
   "execution_count": null,
   "metadata": {},
   "outputs": [],
   "source": [
    "# @title ## Stable Diffusion Comfy\n",
    "\n",
    "enable_sd_comfy = False # @param {type:\"boolean\"}\n",
    "if enable_sd_comfy:\n",
    "    os.environ[\"RUN_SCRIPT\"] = \"sd_comfy\"\n",
    "sd_comfy_port = 7005 # @param {type:\"integer\"}\n",
    "%env SD_COMFY_PORT=$sd_comfy_port\n",
    "\n",
    "!bash $root_repo_dir/Ultimate-Paperspace-Template/entry.sh"
   ]
  },
  {
   "cell_type": "code",
   "execution_count": null,
   "metadata": {},
   "outputs": [],
   "source": [
    "# @title ## Rclone\n",
    "import os\n",
    "\n",
    "enable_rclone = False # @param {type:\"boolean\"}\n",
    "if enable_rclone:\n",
    "    os.environ[\"RUN_SCRIPT\"] = \"rclone\"\n",
    "rclone_serve_protocol = \"webdav\" # @param [\"webdav\", \"sftp\"] {type:\"string\"}\n",
    "%env RCLONE_SERVE_PROTOCOL=$rclone_serve_protocol\n",
    "rclone_port = 7004 # @param {type:\"integer\"}\n",
    "%env RCLONE_PORT=$rclone_port\n",
    "rclone_serve_path = \"/content\" # @param {type:\"string\"}\n",
    "%env RCLONE_SERVE_PATH=$rclone_serve_path\n",
    "rclone_username = \"\" # @param {type:\"string\"}\n",
    "%env RCLONE_USERNAME=$rclone_username\n",
    "rclone_password = \"\" # @param {type:\"string\"}\n",
    "%env RCLONE_PASSWORD=$rclone_password\n",
    "\n",
    "!bash $root_repo_dir/Ultimate-Paperspace-Template/entry.sh"
   ]
  },
  {
   "cell_type": "code",
   "execution_count": null,
   "metadata": {},
   "outputs": [],
   "source": [
    "# @title ## Command Server\n",
    "\n",
    "enable_command_server = False # @param {type:\"boolean\"}\n",
    "if enable_command_server:\n",
    "    os.environ[\"RUN_SCRIPT\"] = \"command\"\n",
    "command_server_port = 7000 # @param {type:\"integer\"}\n",
    "%env COMMAND_PORT=$command_server_port\n",
    "command_username = \"\" # @param {type:\"string\"}\n",
    "%env COMMAND_USERNAME=$command_username\n",
    "command_password = \"\" # @param {type:\"string\"}\n",
    "%env COMMAND_PASSWORD=$command_password\n",
    "\n",
    "!bash $root_repo_dir/Ultimate-Paperspace-Template/entry.sh"
   ]
  }
 ],
 "metadata": {
  "language_info": {
   "name": "python"
  },
  "orig_nbformat": 4
 },
 "nbformat": 4,
 "nbformat_minor": 2
}
